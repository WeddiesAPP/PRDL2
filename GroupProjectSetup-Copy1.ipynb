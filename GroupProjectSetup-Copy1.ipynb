{
 "cells": [
  {
   "cell_type": "markdown",
   "id": "7654b128",
   "metadata": {},
   "source": [
    "### Installing dependencies"
   ]
  },
  {
   "cell_type": "markdown",
   "id": "cc76f402",
   "metadata": {},
   "source": [
    "                                                    Project details                                                                \n",
    "                                 \n",
    "The data represents various brain activities: resting, math & story tasks, working memory, and motor tasks.\n",
    "\n",
    "    The 'Intra' folder contains data from one subject, while the 'Cross' folder includes multiple subjects.\n",
    "\n",
    "Each file is a matrix of shape 248 x 35624, where 248 represents the number of sensors, and 35624 represents time steps.\n",
    "\n",
    "The files have the following format: “taskType subjectIdentifier number.h5”\n",
    "where taskType can be rest, task motor, task story math, and task working memory.\n",
    "\n",
    "In practice, these tasks correspond to the activities performed by the subjects:\n",
    "\n",
    "    • Resting Task\n",
    "Recording the subjects’ brain while in a relaxed resting\n",
    "state.\n",
    "\n",
    "    • Math & Story Task\n",
    "Subject performs mental calculation and language\n",
    "processing task.\n",
    "\n",
    "    • Working Memory task\n",
    "Subject performs a memorization task.\n",
    "\n",
    "    • Motor Task\n",
    "Subject performs a motor task, typically moving fingers\n",
    "or feets"
   ]
  },
  {
   "cell_type": "code",
   "execution_count": 34,
   "id": "a095d564",
   "metadata": {},
   "outputs": [],
   "source": [
    "import h5py\n",
    "import torch\n",
    "import torch.nn as nn\n",
    "import torch.optim as optim\n",
    "from torch import FloatTensor, LongTensor\n",
    "from typing import Tuple, List, Callable, Optional\n",
    "from sklearn.metrics import accuracy_score"
   ]
  },
  {
   "cell_type": "markdown",
   "id": "77a4a67a",
   "metadata": {},
   "source": [
    "Reading data:"
   ]
  },
  {
   "cell_type": "code",
   "execution_count": 8,
   "id": "447432ed",
   "metadata": {},
   "outputs": [],
   "source": [
    "def get_dataset_name(file_name_with_dir):\n",
    "    filename_without_dir = file_name_with_dir.split('/')[-1]\n",
    "    temp = filename_without_dir.split('_')[:-1]\n",
    "    dataset_name = \"_\".join(temp)\n",
    "    return dataset_name"
   ]
  },
  {
   "cell_type": "code",
   "execution_count": 9,
   "id": "9cefcec6",
   "metadata": {},
   "outputs": [],
   "source": [
    "# Data Preprocessing\n",
    "\n",
    "# min-max scaling\n",
    "def minmax(trial):\n",
    "    min = trial.min()\n",
    "    max = trial.max()\n",
    "    normalisedTrial = (trial - min)/(max-min)\n",
    "    return normalisedTrial\n",
    "\n",
    "#Z-score normalisation OPTIONAL\n",
    "def zscore(trial):\n",
    "    return\n",
    "\n",
    "#downsamples data by totaltimesteps/factor\n",
    "def downsample(trial, factor):\n",
    "    ds_trial = trial[:,::factor]\n",
    "    return ds_trial\n",
    "\n",
    "#Memory management during training #TODO\n"
   ]
  },
  {
   "cell_type": "code",
   "execution_count": 16,
   "id": "520ca917",
   "metadata": {},
   "outputs": [],
   "source": [
    "class RNN(nn.Module):\n",
    "    def __init__(self, input_size, hidden_size, output_size):\n",
    "        super(RNN, self).__init__()\n",
    "        \n",
    "        # RNN layer\n",
    "        self.rnn = nn.RNN(input_size, hidden_size, batch_first=True)\n",
    "        \n",
    "        # Fully connected layer\n",
    "        self.fc = nn.Linear(hidden_size, output_size)\n",
    "\n",
    "    def forward(self, x):\n",
    "        # Forward pass through RNN\n",
    "        rnn, _ = self.rnn(x)\n",
    "        \n",
    "        # Only take the output from the final time step\n",
    "        output = self.fc(rnn[:, -1, :])\n",
    "        return output"
   ]
  },
  {
   "cell_type": "code",
   "execution_count": 38,
   "id": "75a55a60",
   "metadata": {},
   "outputs": [],
   "source": [
    "# Code for storing data in a folder into an array\n",
    "import os\n",
    "import numpy as np\n",
    "\n",
    "def preprocess_files(files = None, path = 'Final Project data/Cross/train', downsampling = 30):\n",
    "    label_to_int = {'rest': 0, 'task_motor': 1, 'task_story_math': 2, 'task_working_memory': 3}\n",
    "\n",
    "    cross_data_train = [] # Store data\n",
    "    cross_data_train_labels = [] # Store labels (based on filename)\n",
    "\n",
    "    if files == None:\n",
    "        files = os.listdir(path)\n",
    "\n",
    "    for file in files:\n",
    "        file_path = f'{path}/{file}'\n",
    "        \n",
    "        with h5py.File(file_path, 'r') as h5_file:\n",
    "            # obtain labels\n",
    "            dataset_name = get_dataset_name(file_path)\n",
    "            label = dataset_name.split('1')[0].removesuffix('_')\n",
    "            cross_data_train_labels.append(label_to_int[label])\n",
    "            \n",
    "            # obtain X_data\n",
    "            matrix = h5_file.get(dataset_name)[()]\n",
    "            normalisedMatrix = downsample(minmax(matrix), downsampling) # apply minmax normalisation and downsampling\n",
    "            cross_data_train.append(normalisedMatrix.T) # Transpose\n",
    "             \n",
    "    X = torch.from_numpy(np.array(cross_data_train)).float()\n",
    "    y = torch.tensor(cross_data_train_labels)        \n",
    "            \n",
    "    return X, y"
   ]
  },
  {
   "cell_type": "code",
   "execution_count": 56,
   "id": "e3f1ffd0",
   "metadata": {},
   "outputs": [
    {
     "name": "stdout",
     "output_type": "stream",
     "text": [
      "training batch 1...\n",
      "training batch 2...\n",
      "training batch 3...\n",
      "training batch 4...\n",
      "training batch 5...\n",
      "training batch 6...\n",
      "training batch 7...\n",
      "training batch 8...\n"
     ]
    }
   ],
   "source": [
    "# TODO define model\n",
    "input_size = 248\n",
    "hidden_size = 128\n",
    "output_size = 4\n",
    "network = RNN(input_size, hidden_size, output_size)\n",
    "loss_fn = nn.CrossEntropyLoss()\n",
    "opt = optim.Adam(network.parameters(), lr=0.001)\n",
    "\n",
    "path = 'Final Project data/Cross/train'\n",
    "files = os.listdir(path)\n",
    "current_samples = []\n",
    "n = 8\n",
    "batch = 1\n",
    "for i, file in enumerate(files):\n",
    "    current_samples.append(file)\n",
    "    if len(current_samples) == n or i == (len(files)-1):\n",
    "        print(f\"training batch {batch}...\")\n",
    "        X_train, y_train = preprocess_files(current_samples, downsampling=1) \n",
    "        current_samples = []\n",
    "        \n",
    "        network.train()\n",
    "        opt.zero_grad()\n",
    "        output = network(ts_cross_train)\n",
    "        loss = loss_fn(output, ts_y_train)\n",
    "        loss.backward()\n",
    "        opt.step()\n",
    "        \n",
    "        batch += 1"
   ]
  },
  {
   "cell_type": "code",
   "execution_count": 59,
   "id": "10e3fe33",
   "metadata": {},
   "outputs": [
    {
     "data": {
      "text/plain": [
       "0.5"
      ]
     },
     "execution_count": 59,
     "metadata": {},
     "output_type": "execute_result"
    }
   ],
   "source": [
    "# testing:\n",
    "path = 'Final Project data/Cross/test1'\n",
    "files = os.listdir(path)\n",
    "X, y = preprocess_files(files, path, 1)\n",
    "network.eval()\n",
    "\n",
    "test_output = network(X).detach().numpy()\n",
    "pred = np.argmax(test_output, axis=1) # to numpy\n",
    "y = y.numpy()\n",
    "\n",
    "accuracy_score(pred, y)"
   ]
  },
  {
   "cell_type": "code",
   "execution_count": null,
   "id": "5b4ac940",
   "metadata": {},
   "outputs": [],
   "source": [
    "\n"
   ]
  },
  {
   "cell_type": "code",
   "execution_count": null,
   "id": "3cc7a9b6",
   "metadata": {},
   "outputs": [],
   "source": []
  }
 ],
 "metadata": {
  "kernelspec": {
   "display_name": "Python 3 (ipykernel)",
   "language": "python",
   "name": "python3"
  },
  "language_info": {
   "codemirror_mode": {
    "name": "ipython",
    "version": 3
   },
   "file_extension": ".py",
   "mimetype": "text/x-python",
   "name": "python",
   "nbconvert_exporter": "python",
   "pygments_lexer": "ipython3",
   "version": "3.9.13"
  }
 },
 "nbformat": 4,
 "nbformat_minor": 5
}
