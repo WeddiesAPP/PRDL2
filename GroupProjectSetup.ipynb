{
 "cells": [
  {
   "cell_type": "markdown",
   "id": "7654b128",
   "metadata": {},
   "source": [
    "### Installing dependencies"
   ]
  },
  {
   "cell_type": "code",
   "execution_count": 1,
   "id": "90c5ce98",
   "metadata": {},
   "outputs": [
    {
     "name": "stdout",
     "output_type": "stream",
     "text": [
      "Requirement already satisfied: h5py in c:\\users\\yanni\\appdata\\local\\packages\\pythonsoftwarefoundation.python.3.8_qbz5n2kfra8p0\\localcache\\local-packages\\python38\\site-packages (3.9.0)Note: you may need to restart the kernel to use updated packages.\n",
      "\n",
      "Requirement already satisfied: numpy>=1.17.3 in c:\\users\\yanni\\appdata\\local\\packages\\pythonsoftwarefoundation.python.3.8_qbz5n2kfra8p0\\localcache\\local-packages\\python38\\site-packages (from h5py) (1.24.3)\n"
     ]
    },
    {
     "name": "stderr",
     "output_type": "stream",
     "text": [
      "\n",
      "[notice] A new release of pip is available: 23.2.1 -> 23.3.2\n",
      "[notice] To update, run: C:\\Users\\yanni\\AppData\\Local\\Microsoft\\WindowsApps\\PythonSoftwareFoundation.Python.3.8_qbz5n2kfra8p0\\python.exe -m pip install --upgrade pip\n"
     ]
    }
   ],
   "source": [
    "pip install h5py"
   ]
  },
  {
   "cell_type": "code",
   "execution_count": 3,
   "id": "a095d564",
   "metadata": {},
   "outputs": [],
   "source": [
    "import h5py\n",
    "import torch"
   ]
  },
  {
   "cell_type": "markdown",
   "id": "77a4a67a",
   "metadata": {},
   "source": [
    "Reading data:"
   ]
  },
  {
   "cell_type": "code",
   "execution_count": 4,
   "id": "447432ed",
   "metadata": {},
   "outputs": [],
   "source": [
    "def get_dataset_name(file_name_with_dir):\n",
    "    filename_without_dir = file_name_with_dir.split('/')[-1]\n",
    "    temp = filename_without_dir.split('_')[:-1]\n",
    "    dataset_name = \"_\".join(temp)\n",
    "    return dataset_name"
   ]
  },
  {
   "cell_type": "code",
   "execution_count": 10,
   "id": "ae9fb06c",
   "metadata": {},
   "outputs": [
    {
     "name": "stdout",
     "output_type": "stream",
     "text": [
      "<class 'numpy.ndarray'>\n",
      "(248, 35624)\n",
      "[[ 8.42330329e-13  8.52551645e-13  9.59410828e-13 ...  4.99454644e-13\n",
      "   5.51955020e-13  3.90272504e-13]\n",
      " [ 4.21169474e-13  3.46406714e-13  2.44710773e-13 ...  6.50103723e-13\n",
      "   6.52889906e-13  6.67285237e-13]\n",
      " [ 3.71812580e-13  3.14581044e-13  2.56960170e-13 ...  5.14697714e-13\n",
      "   5.98014368e-13  6.00739673e-13]\n",
      " ...\n",
      " [ 2.44728771e-13  3.53496583e-13  3.49771671e-13 ... -2.21629925e-13\n",
      "  -2.18649981e-13 -1.92575502e-13]\n",
      " [ 1.59606714e-12  1.63935792e-12  1.61163661e-12 ...  1.73049368e-12\n",
      "   1.71454441e-12  1.63327934e-12]\n",
      " [ 2.71291193e-12  2.74663170e-12  2.71329508e-12 ...  8.00468903e-13\n",
      "   9.05076957e-13  9.84778340e-13]]\n"
     ]
    }
   ],
   "source": [
    "filename_path = \"C:/Users/yanni/Documents/Final Project data/Intra/train/task_motor_105923_1.h5\"\n",
    "with h5py.File(filename_path, 'r') as f:\n",
    "    dataset_name = get_dataset_name(filename_path)\n",
    "    matrix = f.get(dataset_name)[()]\n",
    "    print(type(matrix))\n",
    "    print(matrix.shape)\n",
    "    print(matrix)"
   ]
  },
  {
   "cell_type": "code",
   "execution_count": 30,
   "id": "9cefcec6",
   "metadata": {},
   "outputs": [],
   "source": [
    "# Data Preprocessing\n",
    "\n",
    "# min-max scaling\n",
    "def minmax(trial):\n",
    "    min = trial.min()\n",
    "    max = trial.max()\n",
    "    normalisedTrial = (trial - min)/(max-min)\n",
    "    return normalisedTrial\n",
    "\n",
    "#Z-score normalisation OPTIONAL\n",
    "def zscore(trial):\n",
    "    return\n",
    "\n",
    "#downsamples data by totaltimesteps/factor\n",
    "def downsample(trial, factor):\n",
    "    ds_trial = trial[:,::factor]\n",
    "    return ds_trial\n",
    "\n",
    "#Memory management during training #TODO"
   ]
  },
  {
   "cell_type": "code",
   "execution_count": 36,
   "id": "28e5d3c3",
   "metadata": {},
   "outputs": [
    {
     "name": "stdout",
     "output_type": "stream",
     "text": [
      "(248, 1188)\n",
      "[[ 8.42330329e-13  8.52551645e-13  9.59410828e-13 ...  4.99454644e-13\n",
      "   5.51955020e-13  3.90272504e-13]\n",
      " [ 4.21169474e-13  3.46406714e-13  2.44710773e-13 ...  6.50103723e-13\n",
      "   6.52889906e-13  6.67285237e-13]\n",
      " [ 3.71812580e-13  3.14581044e-13  2.56960170e-13 ...  5.14697714e-13\n",
      "   5.98014368e-13  6.00739673e-13]\n",
      " ...\n",
      " [ 2.44728771e-13  3.53496583e-13  3.49771671e-13 ... -2.21629925e-13\n",
      "  -2.18649981e-13 -1.92575502e-13]\n",
      " [ 1.59606714e-12  1.63935792e-12  1.61163661e-12 ...  1.73049368e-12\n",
      "   1.71454441e-12  1.63327934e-12]\n",
      " [ 2.71291193e-12  2.74663170e-12  2.71329508e-12 ...  8.00468903e-13\n",
      "   9.05076957e-13  9.84778340e-13]]\n",
      "1.0\n"
     ]
    }
   ],
   "source": [
    "#testing the functions\n",
    "\n",
    "ds = downsample(matrix, 30)\n",
    "print(ds.shape)\n",
    "\n",
    "print(matrix)\n",
    "normalisedMatrix = minmax(matrix)\n",
    "print(normalisedMatrix.max())\n"
   ]
  }
 ],
 "metadata": {
  "kernelspec": {
   "display_name": "Python 3 (ipykernel)",
   "language": "python",
   "name": "python3"
  },
  "language_info": {
   "codemirror_mode": {
    "name": "ipython",
    "version": 3
   },
   "file_extension": ".py",
   "mimetype": "text/x-python",
   "name": "python",
   "nbconvert_exporter": "python",
   "pygments_lexer": "ipython3",
   "version": "3.8.10"
  }
 },
 "nbformat": 4,
 "nbformat_minor": 5
}
