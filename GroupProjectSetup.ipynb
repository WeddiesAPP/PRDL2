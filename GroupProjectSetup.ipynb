{
 "cells": [
  {
   "cell_type": "code",
   "execution_count": 1,
   "id": "90c5ce98",
   "metadata": {},
   "outputs": [
    {
     "name": "stdout",
     "output_type": "stream",
     "text": [
      "Requirement already satisfied: h5py in c:\\users\\31642\\anaconda3\\lib\\site-packages (3.2.1)\n",
      "Requirement already satisfied: cached-property in c:\\users\\31642\\anaconda3\\lib\\site-packages (from h5py) (1.5.2)\n",
      "Requirement already satisfied: numpy>=1.14.5 in c:\\users\\31642\\anaconda3\\lib\\site-packages (from h5py) (1.19.2)\n",
      "Note: you may need to restart the kernel to use updated packages.\n"
     ]
    }
   ],
   "source": [
    "pip install h5py"
   ]
  },
  {
   "cell_type": "code",
   "execution_count": 2,
   "id": "a095d564",
   "metadata": {},
   "outputs": [],
   "source": [
    "import h5py"
   ]
  },
  {
   "cell_type": "code",
   "execution_count": 3,
   "id": "447432ed",
   "metadata": {},
   "outputs": [],
   "source": [
    "def get_dataset_name(file_name_with_dir):\n",
    "    filename_without_dir = file_name_with_dir.split('/')[-1]\n",
    "    temp = filename_without_dir.split('_')[:-1]\n",
    "    dataset_name = \"_\".join(temp)\n",
    "    return dataset_name"
   ]
  },
  {
   "cell_type": "code",
   "execution_count": 4,
   "id": "ae9fb06c",
   "metadata": {},
   "outputs": [
    {
     "name": "stdout",
     "output_type": "stream",
     "text": [
      "<class 'numpy.ndarray'>\n",
      "(248, 35624)\n"
     ]
    }
   ],
   "source": [
    "filename_path = \"C:/Users/31642/Documents/Final Project data/Intra/train/rest_105923_1.h5\"\n",
    "with h5py.File(filename_path, 'r') as f:\n",
    "    dataset_name = get_dataset_name(filename_path)\n",
    "    matrix = f.get(dataset_name)[()]\n",
    "    print(type(matrix))\n",
    "    print(matrix.shape)"
   ]
  },
  {
   "cell_type": "code",
   "execution_count": 8,
   "id": "75e243fd",
   "metadata": {},
   "outputs": [
    {
     "data": {
      "text/plain": [
       "array([[ 1.97084298e-12,  2.05354267e-12,  2.15993716e-12, ...,\n",
       "         3.76791523e-12,  3.73353432e-12,  3.84085819e-12],\n",
       "       [-3.65499341e-12, -3.84306129e-12, -4.03623706e-12, ...,\n",
       "        -5.83472593e-12, -5.77250097e-12, -5.84865663e-12],\n",
       "       [ 2.25851130e-12,  2.22853290e-12,  2.31691077e-12, ...,\n",
       "         3.08775379e-12,  3.10566308e-12,  3.13019098e-12],\n",
       "       ...,\n",
       "       [ 2.69611351e-12,  2.78066936e-12,  2.76576960e-12, ...,\n",
       "         4.65467768e-12,  4.52058052e-12,  4.51164063e-12],\n",
       "       [-5.07980854e-12, -5.11056778e-12, -5.06082155e-12, ...,\n",
       "        -6.20575379e-12, -6.26423436e-12, -6.20271586e-12],\n",
       "       [-6.09371928e-12, -6.22285079e-12, -6.26193498e-12, ...,\n",
       "        -3.39112787e-12, -3.35855757e-12, -3.36085673e-12]])"
      ]
     },
     "execution_count": 8,
     "metadata": {},
     "output_type": "execute_result"
    }
   ],
   "source": [
    "matrix"
   ]
  }
 ],
 "metadata": {
  "kernelspec": {
   "display_name": "Python 3 (ipykernel)",
   "language": "python",
   "name": "python3"
  },
  "language_info": {
   "codemirror_mode": {
    "name": "ipython",
    "version": 3
   },
   "file_extension": ".py",
   "mimetype": "text/x-python",
   "name": "python",
   "nbconvert_exporter": "python",
   "pygments_lexer": "ipython3",
   "version": "3.7.3"
  }
 },
 "nbformat": 4,
 "nbformat_minor": 5
}
